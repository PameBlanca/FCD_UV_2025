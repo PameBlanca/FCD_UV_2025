{
 "cells": [
  {
   "cell_type": "markdown",
   "id": "db524fea",
   "metadata": {},
   "source": []
  },
  {
   "cell_type": "code",
   "execution_count": 1,
   "id": "3e3db9ad",
   "metadata": {},
   "outputs": [],
   "source": [
    "# ===== IMPORTS Y CONFIGURACIÓN =====\n",
    "import pandas as pd\n",
    "import numpy as np\n",
    "import matplotlib.pyplot as plt\n",
    "import seaborn as sns\n",
    "import pickle\n",
    "import warnings\n",
    "warnings.filterwarnings('ignore')\n",
    "\n",
    "# Imports específicos para clustering\n",
    "from sklearn.cluster import KMeans, DBSCAN, AgglomerativeClustering\n",
    "from sklearn.metrics import silhouette_score, adjusted_rand_score\n",
    "from sklearn.preprocessing import StandardScaler\n",
    "from scipy.cluster.hierarchy import dendrogram, linkage\n",
    "from scipy.stats import chi2_contingency\n",
    "\n",
    "# Configuración de visualización\n",
    "plt.style.use('default')\n",
    "sns.set_theme(style=\"whitegrid\")\n",
    "plt.rcParams['figure.figsize'] = (12, 8)\n",
    "plt.rcParams['font.size'] = 12"
   ]
  },
  {
   "cell_type": "code",
   "execution_count": 3,
   "id": "fd0387df",
   "metadata": {},
   "outputs": [
    {
     "name": "stdout",
     "output_type": "stream",
     "text": [
      "Datos cargados exitosamente\n",
      "Features shape: (520, 16)\n",
      "Target shape: (520,)\n",
      "Número de síntomas: 14\n"
     ]
    }
   ],
   "source": [
    "# ===== Cargar datos del notebook anterior =====\n",
    "# Cargar objetos guardados\n",
    "try:\n",
    "    with open('../data/processed/analysis_objects.pkl', 'rb') as f:\n",
    "        data = pickle.load(f)\n",
    "    \n",
    "    features_scaled = data['features_scaled']\n",
    "    target = data['target']\n",
    "    scaler = data['scaler']\n",
    "    symptom_cols = data['symptom_cols']\n",
    "    \n",
    "    print(\"Datos cargados exitosamente\")\n",
    "    print(f\"Features shape: {features_scaled.shape}\")\n",
    "    print(f\"Target shape: {target.shape}\")\n",
    "    print(f\"Número de síntomas: {len(symptom_cols)}\")\n",
    "    \n",
    "except FileNotFoundError:\n",
    "    print(\"Error: No se encontró el archivo de datos procesados.\")\n",
    "    print(\"Ejecutar primero: 01_diabetes_eda_preprocessing.ipynb\")\n",
    "except Exception as e:\n",
    "    print(f\"Error al cargar datos: {e}\")"
   ]
  }
 ],
 "metadata": {
  "kernelspec": {
   "display_name": "Python 3",
   "language": "python",
   "name": "python3"
  },
  "language_info": {
   "codemirror_mode": {
    "name": "ipython",
    "version": 3
   },
   "file_extension": ".py",
   "mimetype": "text/x-python",
   "name": "python",
   "nbconvert_exporter": "python",
   "pygments_lexer": "ipython3",
   "version": "3.11.6"
  }
 },
 "nbformat": 4,
 "nbformat_minor": 5
}
